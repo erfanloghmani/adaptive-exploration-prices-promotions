{
 "cells": [
  {
   "cell_type": "code",
   "execution_count": 1,
   "metadata": {},
   "outputs": [],
   "source": [
    "import pandas as pd"
   ]
  },
  {
   "cell_type": "code",
   "execution_count": 7,
   "metadata": {},
   "outputs": [],
   "source": [
    "time_linear_bs10 = pd.read_csv('results/5-2-noncontextual-nielsen-batch-10-time_9_rep40_T20000/times.csv')\n",
    "time_linear_bs10.drop(['Unnamed: 0'], axis=1, inplace=True)\n",
    "time_linear_bs10['timediff_avg'] = time_linear_bs10['timediff'] / 20000"
   ]
  },
  {
   "cell_type": "markdown",
   "metadata": {},
   "source": [
    "# Linear Model Batch 10"
   ]
  },
  {
   "cell_type": "code",
   "execution_count": 16,
   "metadata": {},
   "outputs": [],
   "source": [
    "time_linear_bs10_agg = time_linear_bs10.groupby('Algorithm').agg({\n",
    "    'timediff_avg': ['mean', 'std']\n",
    "}).reset_index()\n",
    "time_linear_bs10_agg['mean (std)'] = time_linear_bs10_agg.apply(lambda x: f\"{x[('timediff_avg', 'mean')]:.4f} ({x[('timediff_avg', 'std')]:.4f})\", axis=1)"
   ]
  },
  {
   "cell_type": "code",
   "execution_count": 17,
   "metadata": {},
   "outputs": [
    {
     "data": {
      "text/html": [
       "<div>\n",
       "<style scoped>\n",
       "    .dataframe tbody tr th:only-of-type {\n",
       "        vertical-align: middle;\n",
       "    }\n",
       "\n",
       "    .dataframe tbody tr th {\n",
       "        vertical-align: top;\n",
       "    }\n",
       "\n",
       "    .dataframe thead tr th {\n",
       "        text-align: left;\n",
       "    }\n",
       "</style>\n",
       "<table border=\"1\" class=\"dataframe\">\n",
       "  <thead>\n",
       "    <tr>\n",
       "      <th></th>\n",
       "      <th>Algorithm</th>\n",
       "      <th colspan=\"2\" halign=\"left\">timediff_avg</th>\n",
       "      <th>mean (std)</th>\n",
       "    </tr>\n",
       "    <tr>\n",
       "      <th></th>\n",
       "      <th></th>\n",
       "      <th>mean</th>\n",
       "      <th>std</th>\n",
       "      <th></th>\n",
       "    </tr>\n",
       "  </thead>\n",
       "  <tbody>\n",
       "    <tr>\n",
       "      <th>0</th>\n",
       "      <td>Greedy-Batch-10-lr1</td>\n",
       "      <td>0.083888</td>\n",
       "      <td>0.003645</td>\n",
       "      <td>0.0839 (0.0036)</td>\n",
       "    </tr>\n",
       "    <tr>\n",
       "      <th>1</th>\n",
       "      <td>TS-Langevin-Batch-10-lr0.01-N50</td>\n",
       "      <td>0.235024</td>\n",
       "      <td>0.025238</td>\n",
       "      <td>0.2350 (0.0252)</td>\n",
       "    </tr>\n",
       "    <tr>\n",
       "      <th>2</th>\n",
       "      <td>TS-Laplace-Batch-10-lr0.1</td>\n",
       "      <td>0.084120</td>\n",
       "      <td>0.003475</td>\n",
       "      <td>0.0841 (0.0035)</td>\n",
       "    </tr>\n",
       "  </tbody>\n",
       "</table>\n",
       "</div>"
      ],
      "text/plain": [
       "                         Algorithm timediff_avg                 mean (std)\n",
       "                                           mean       std                 \n",
       "0              Greedy-Batch-10-lr1     0.083888  0.003645  0.0839 (0.0036)\n",
       "1  TS-Langevin-Batch-10-lr0.01-N50     0.235024  0.025238  0.2350 (0.0252)\n",
       "2        TS-Laplace-Batch-10-lr0.1     0.084120  0.003475  0.0841 (0.0035)"
      ]
     },
     "execution_count": 17,
     "metadata": {},
     "output_type": "execute_result"
    }
   ],
   "source": [
    "time_linear_bs10_agg"
   ]
  },
  {
   "cell_type": "markdown",
   "metadata": {},
   "source": [
    "# Linear Model Batch 200"
   ]
  },
  {
   "cell_type": "code",
   "execution_count": 9,
   "metadata": {},
   "outputs": [],
   "source": [
    "time_linear_bs200 = pd.read_csv('results/5-2-noncontextual-nielsen-batch-200-langevin-1-time_9_rep40_T20000/times.csv')\n",
    "time_linear_bs200.drop(['Unnamed: 0'], axis=1, inplace=True)\n",
    "time_linear_bs200['timediff_avg'] = time_linear_bs200['timediff'] / 20000"
   ]
  },
  {
   "cell_type": "code",
   "execution_count": 18,
   "metadata": {},
   "outputs": [
    {
     "data": {
      "text/html": [
       "<div>\n",
       "<style scoped>\n",
       "    .dataframe tbody tr th:only-of-type {\n",
       "        vertical-align: middle;\n",
       "    }\n",
       "\n",
       "    .dataframe tbody tr th {\n",
       "        vertical-align: top;\n",
       "    }\n",
       "\n",
       "    .dataframe thead tr th {\n",
       "        text-align: left;\n",
       "    }\n",
       "</style>\n",
       "<table border=\"1\" class=\"dataframe\">\n",
       "  <thead>\n",
       "    <tr>\n",
       "      <th></th>\n",
       "      <th>Algorithm</th>\n",
       "      <th colspan=\"2\" halign=\"left\">timediff_avg</th>\n",
       "      <th>mean (std)</th>\n",
       "    </tr>\n",
       "    <tr>\n",
       "      <th></th>\n",
       "      <th></th>\n",
       "      <th>mean</th>\n",
       "      <th>std</th>\n",
       "      <th></th>\n",
       "    </tr>\n",
       "  </thead>\n",
       "  <tbody>\n",
       "    <tr>\n",
       "      <th>0</th>\n",
       "      <td>Greedy-Batch-200-lr0.1</td>\n",
       "      <td>0.040892</td>\n",
       "      <td>0.000568</td>\n",
       "      <td>0.0409 (0.0006)</td>\n",
       "    </tr>\n",
       "    <tr>\n",
       "      <th>1</th>\n",
       "      <td>M3P-lr0.1</td>\n",
       "      <td>0.038719</td>\n",
       "      <td>0.000758</td>\n",
       "      <td>0.0387 (0.0008)</td>\n",
       "    </tr>\n",
       "    <tr>\n",
       "      <th>2</th>\n",
       "      <td>TS-Langevin-Batch-200-lr0.01</td>\n",
       "      <td>0.229482</td>\n",
       "      <td>0.020293</td>\n",
       "      <td>0.2295 (0.0203)</td>\n",
       "    </tr>\n",
       "    <tr>\n",
       "      <th>3</th>\n",
       "      <td>TS-Laplace-Batch-200-lr0.1</td>\n",
       "      <td>0.041291</td>\n",
       "      <td>0.000645</td>\n",
       "      <td>0.0413 (0.0006)</td>\n",
       "    </tr>\n",
       "  </tbody>\n",
       "</table>\n",
       "</div>"
      ],
      "text/plain": [
       "                      Algorithm timediff_avg                 mean (std)\n",
       "                                        mean       std                 \n",
       "0        Greedy-Batch-200-lr0.1     0.040892  0.000568  0.0409 (0.0006)\n",
       "1                     M3P-lr0.1     0.038719  0.000758  0.0387 (0.0008)\n",
       "2  TS-Langevin-Batch-200-lr0.01     0.229482  0.020293  0.2295 (0.0203)\n",
       "3    TS-Laplace-Batch-200-lr0.1     0.041291  0.000645  0.0413 (0.0006)"
      ]
     },
     "execution_count": 18,
     "metadata": {},
     "output_type": "execute_result"
    }
   ],
   "source": [
    "time_linear_bs200_agg = time_linear_bs200.groupby('Algorithm').agg({\n",
    "    'timediff_avg': ['mean', 'std']\n",
    "}).reset_index()\n",
    "time_linear_bs200_agg['mean (std)'] = time_linear_bs200_agg.apply(lambda x: f\"{x[('timediff_avg', 'mean')]:.4f} ({x[('timediff_avg', 'std')]:.4f})\", axis=1)\n",
    "time_linear_bs200_agg"
   ]
  },
  {
   "cell_type": "code",
   "execution_count": 23,
   "metadata": {},
   "outputs": [
    {
     "name": "stdout",
     "output_type": "stream",
     "text": [
      "\\begin{tabular}{ll}\n",
      "\\toprule\n",
      "                      Algorithm &      mean (std) \\\\\n",
      "                                \\\\\n",
      "\\midrule\n",
      "            Greedy-Batch-10-lr1 & 0.0839 (0.0036) \\\\\n",
      "TS-Langevin-Batch-10-lr0.01-N50 & 0.2350 (0.0252) \\\\\n",
      "      TS-Laplace-Batch-10-lr0.1 & 0.0841 (0.0035) \\\\\n",
      "         Greedy-Batch-200-lr0.1 & 0.0409 (0.0006) \\\\\n",
      "                      M3P-lr0.1 & 0.0387 (0.0008) \\\\\n",
      "   TS-Langevin-Batch-200-lr0.01 & 0.2295 (0.0203) \\\\\n",
      "     TS-Laplace-Batch-200-lr0.1 & 0.0413 (0.0006) \\\\\n",
      "\\bottomrule\n",
      "\\end{tabular}\n",
      "\n"
     ]
    },
    {
     "name": "stderr",
     "output_type": "stream",
     "text": [
      "/tmp/ipykernel_337905/315589222.py:2: FutureWarning: In future versions `DataFrame.to_latex` is expected to utilise the base implementation of `Styler.to_latex` for formatting and rendering. The arguments signature may therefore change. It is recommended instead to use `DataFrame.style.to_latex` which also contains additional functionality.\n",
      "  print(linear_combined[['Algorithm', 'mean (std)']].to_latex(index=False))\n"
     ]
    }
   ],
   "source": [
    "linear_combined = pd.concat([time_linear_bs10_agg, time_linear_bs200_agg])\n",
    "print(linear_combined[['Algorithm', 'mean (std)']].to_latex(index=False))\n"
   ]
  },
  {
   "cell_type": "code",
   "execution_count": 11,
   "metadata": {},
   "outputs": [],
   "source": [
    "time_context = pd.read_csv('results/7-2-contextual-nielsen-quarter-store_9_rep10_T40000/times.csv')\n",
    "time_context.drop(['Unnamed: 0'], axis=1, inplace=True)\n",
    "time_context['timediff_avg'] = time_context['timediff'] / 40000"
   ]
  },
  {
   "cell_type": "code",
   "execution_count": 26,
   "metadata": {},
   "outputs": [],
   "source": [
    "time_context_agg = time_context.groupby('Algorithm').agg({\n",
    "    'timediff_avg': ['mean', 'std']\n",
    "}).reset_index()\n",
    "time_context_agg['mean (std)'] = time_context_agg.apply(lambda x: f\"{x[('timediff_avg', 'mean')]:.4f} ({x[('timediff_avg', 'std')]:.4f})\", axis=1)"
   ]
  },
  {
   "cell_type": "code",
   "execution_count": 28,
   "metadata": {},
   "outputs": [
    {
     "name": "stdout",
     "output_type": "stream",
     "text": [
      "\\begin{tabular}{ll}\n",
      "\\toprule\n",
      "  Algorithm &      mean (std) \\\\\n",
      "            \\\\\n",
      "\\midrule\n",
      "     Greedy & 3.6123 (0.0417) \\\\\n",
      "        M3P & 2.9417 (0.0416) \\\\\n",
      "TS-Langevin & 3.5460 (0.0436) \\\\\n",
      "\\bottomrule\n",
      "\\end{tabular}\n",
      "\n"
     ]
    },
    {
     "name": "stderr",
     "output_type": "stream",
     "text": [
      "/tmp/ipykernel_337905/3481763557.py:1: FutureWarning: In future versions `DataFrame.to_latex` is expected to utilise the base implementation of `Styler.to_latex` for formatting and rendering. The arguments signature may therefore change. It is recommended instead to use `DataFrame.style.to_latex` which also contains additional functionality.\n",
      "  print(time_context_agg[['Algorithm', 'mean (std)']].to_latex(index=False))\n"
     ]
    }
   ],
   "source": [
    "print(time_context_agg[['Algorithm', 'mean (std)']].to_latex(index=False))"
   ]
  }
 ],
 "metadata": {
  "kernelspec": {
   "display_name": "Python 3.9.13 ('base')",
   "language": "python",
   "name": "python3"
  },
  "language_info": {
   "codemirror_mode": {
    "name": "ipython",
    "version": 3
   },
   "file_extension": ".py",
   "mimetype": "text/x-python",
   "name": "python",
   "nbconvert_exporter": "python",
   "pygments_lexer": "ipython3",
   "version": "3.9.13"
  },
  "orig_nbformat": 4,
  "vscode": {
   "interpreter": {
    "hash": "7ac26f3e95f73fdf67b6de2a42124ccc9a5d1c0da97a876682a556b22f72439f"
   }
  }
 },
 "nbformat": 4,
 "nbformat_minor": 2
}
